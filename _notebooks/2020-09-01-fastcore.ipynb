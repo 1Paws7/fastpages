{
 "cells": [
  {
   "cell_type": "markdown",
   "metadata": {},
   "source": [
    "# \"fastcore: An Underrated Python Library\"\n",
    "\n",
    "> A unique python library that extends the python programming language and provides utilities that enhance productivity.\n",
    "- author: \"<a href='https://twitter.com/HamelHusain'>Hamel Husain</a>, <a href='https://twitter.com/jeremyphoward'>Jeremy Howard</a>\"\n",
    "- toc: false\n",
    "- image: image/terminal.png\n",
    "- comments: true\n",
    "- categories: [fastcore, fastai]\n",
    "- permalink: /fastcore/\n",
    "- badges: true"
   ]
  },
  {
   "cell_type": "markdown",
   "metadata": {},
   "source": [
    "![screenshot with code](fastcore_imgs/terminal.jpg \"Credit: https://unsplash.com/photos/ieic5Tq8YMk\")\n",
    "\n",
    "## Background\n",
    "\n",
    "I recently embarked on a journey to sharpen my python skills:  I wanted to learn advanced patterns, idioms, and techniques.  I started with reading a bunch of books on Advanced Python, however, like anything else, the information didn’t seem to stick without having somewhere to apply it.  That’s when an opportunity to help document and write tests for the python library [fastcore](https://fastcore.fast.ai/) presented itself.  For the uninitiated, [fastcore](https://fastcore.fast.ai/) is a set of modules on top of which many [fast.ai](https://github.com/fastai) projects are built on. In this blog post, I'm going to highlight some of my favorite tools that fastcore provides, rather than sharing what I learned about python.  My goal is to pique your interest in this library, and hopefully motivate you to check out the documentation after you are done to learn more!\n",
    "\n",
    "## Why fastcore is interesting\n",
    "\n",
    "1. **Get exposed to ideas from other languages without leaving python:**  I’ve always heard to become a better programmer, it is beneficial to learn other languages.  From a pragmatic point of view, I’ve found it difficult to learn other languages because I could never use them at work.   Fastcore extends python to include patterns found in languages as diverse as Julia, Ruby and Haskell.  Now that I understand these tools and have benifited from them, I am motivated to learn other languages.\n",
    "2. **You get a new set of pragmatic tools**: fastcore includes utilities that will allow you to write more concise expressive code, and perhaps solve new problems.\n",
    "3. **Learn more about the python programming language:**  Because fastcore extends the python programming language, many advanced concepts are exposed during the process.  For the motivated, this is a great way to see how many of the internals of python work.  \n",
    " \n",
    "\n",
    "## A whirlwind tour through fastcore\n",
    "\n",
    "Here are some things you can do with fastcore that immediately caught my attention."
   ]
  },
  {
   "cell_type": "code",
   "execution_count": 1,
   "metadata": {},
   "outputs": [],
   "source": [
    "#hide\n",
    "from fastcore.foundation import *\n",
    "from fastcore.utils import *\n",
    "from fastcore.test import *\n",
    "from nbdev.showdoc import *\n",
    "from fastcore.dispatch import typedispatch\n",
    "from functools import partial\n",
    "import numpy as np\n",
    "import inspect"
   ]
  },
  {
   "cell_type": "markdown",
   "metadata": {},
   "source": [
    "### Making **kwargs transparent\n",
    "\n",
    "Whenever I see a function that has the argument <strong>**kwargs</strong>, I cringe a little.  This is because it means the api is obfuscated and I have to read the source code to figure out what valid parameters might be.  Consdier the below example:"
   ]
  },
  {
   "cell_type": "code",
   "execution_count": 2,
   "metadata": {},
   "outputs": [
    {
     "data": {
      "text/plain": [
       "<Signature (c, a, **kwargs)>"
      ]
     },
     "execution_count": 2,
     "metadata": {},
     "output_type": "execute_result"
    }
   ],
   "source": [
    "def baz(a, b=2, c =3, d=4): return a + b + c\n",
    "\n",
    "def foo(c, a, **kwargs):\n",
    "    return c + baz(a, **kwargs)\n",
    "\n",
    "inspect.signature(foo)"
   ]
  },
  {
   "cell_type": "markdown",
   "metadata": {},
   "source": [
    "Without reading the source code, it might be hard for me to know that `foo` also accepts and additional parameters `b` and `d`.  We can fix this with [`delegates`](https://fastcore.fast.ai/foundation.html#delegates):"
   ]
  },
  {
   "cell_type": "code",
   "execution_count": 3,
   "metadata": {},
   "outputs": [
    {
     "data": {
      "text/plain": [
       "<Signature (c, a, b=2, d=4)>"
      ]
     },
     "execution_count": 3,
     "metadata": {},
     "output_type": "execute_result"
    }
   ],
   "source": [
    "def baz(a, b=2, c =3, d=4): return a + b + c\n",
    "\n",
    "@delegates(baz) # this decorator will pass down keyword arguments from baz\n",
    "def foo(c, a, **kwargs):\n",
    "    return c + baz(a, **kwargs)\n",
    "\n",
    "inspect.signature(foo)"
   ]
  },
  {
   "cell_type": "markdown",
   "metadata": {},
   "source": [
    "You can customize the behavior of this decorator.  For example, you can have your cake and eat it too by passing down your arguments and also keeping `**kwargs`:"
   ]
  },
  {
   "cell_type": "code",
   "execution_count": 4,
   "metadata": {},
   "outputs": [
    {
     "data": {
      "text/plain": [
       "<Signature (c, a, b=2, d=4, **kwargs)>"
      ]
     },
     "execution_count": 4,
     "metadata": {},
     "output_type": "execute_result"
    }
   ],
   "source": [
    "@delegates(baz, keep=True)\n",
    "def foo(c, a, **kwargs):\n",
    "    return c + baz(a, **kwargs)\n",
    "\n",
    "inspect.signature(foo)"
   ]
  },
  {
   "cell_type": "markdown",
   "metadata": {},
   "source": [
    "You can also exclude arguments.  For example, we exclude argument `d` from delegation:"
   ]
  },
  {
   "cell_type": "code",
   "execution_count": 5,
   "metadata": {},
   "outputs": [
    {
     "data": {
      "text/plain": [
       "<Signature (c, a, b=2)>"
      ]
     },
     "execution_count": 5,
     "metadata": {},
     "output_type": "execute_result"
    }
   ],
   "source": [
    "def basefoo(a, b=2, c =3, d=4): pass\n",
    "\n",
    "@delegates(basefoo, but= ['d']) # exclude `d`\n",
    "def foo(c, a, **kwargs): pass\n",
    "\n",
    "inspect.signature(foo)"
   ]
  },
  {
   "cell_type": "markdown",
   "metadata": {},
   "source": [
    "You can also delegate between classes:"
   ]
  },
  {
   "cell_type": "code",
   "execution_count": 6,
   "metadata": {},
   "outputs": [
    {
     "data": {
      "text/plain": [
       "<Signature (a, b=1, c=2)>"
      ]
     },
     "execution_count": 6,
     "metadata": {},
     "output_type": "execute_result"
    }
   ],
   "source": [
    "class BaseFoo:\n",
    "    def __init__(self, e, c=2): pass\n",
    "\n",
    "@delegates()# since no argument was passsed here we delegate to the superclass\n",
    "class Foo(BaseFoo):\n",
    "    def __init__(self, a, b=1, **kwargs): super().__init__(**kwargs)\n",
    "        \n",
    "inspect.signature(Foo)"
   ]
  },
  {
   "cell_type": "markdown",
   "metadata": {},
   "source": [
    "For more information, read the [docs on delegates](https://fastcore.fast.ai/foundation.html#delegates)"
   ]
  },
  {
   "cell_type": "markdown",
   "metadata": {},
   "source": [
    "## Avoid boilerplate when setting instance attributes\n",
    "\n",
    "Have you ever wondered if it was possible to avoid the biolerplate involved with setting attributes in `__init__`?"
   ]
  },
  {
   "cell_type": "code",
   "execution_count": 7,
   "metadata": {},
   "outputs": [],
   "source": [
    "class Test:\n",
    "    def __init__(self, first_variable, second_variable, third_variable):\n",
    "        self.first_variable = first_variable\n",
    "        self.second_variable = second_variable\n",
    "        self.third_variable = third_variable"
   ]
  },
  {
   "cell_type": "markdown",
   "metadata": {},
   "source": [
    "Ouch! That was painful.  Look at all the repeated variable names.  Do I really have to repeat myself like this when defining a class?  Not Anymore!  Checkout out [`fastcore.utils.store_attr`](https://fastcore.fast.ai/utils.html#store_attr):"
   ]
  },
  {
   "cell_type": "code",
   "execution_count": 8,
   "metadata": {},
   "outputs": [],
   "source": [
    "class Test:\n",
    "    def __init__(self, first_variable, second_variable, third_variable):\n",
    "        store_attr(self, 'first_variable, second_variable, third_variable')\n",
    "        \n",
    "t = Test(5,4,3)\n",
    "assert t.second_variable == 4"
   ]
  },
  {
   "cell_type": "markdown",
   "metadata": {},
   "source": [
    "That's much better.  However, if I'm pretty lazy.  I can extend this a bit more if really don't want to repeat myself, using this [wisdom I found on stack overflow](https://stackoverflow.com/questions/582056/getting-list-of-parameter-names-inside-python-function):"
   ]
  },
  {
   "cell_type": "code",
   "execution_count": 9,
   "metadata": {},
   "outputs": [],
   "source": [
    "def save_attr(self):\n",
    "    \"lazier version of store_attr\"\n",
    "    store_attr(self, ','.join(self.__init__.__code__.co_varnames[1:]))\n",
    "\n",
    "class Test:\n",
    "    def __init__(self, first_variable, second_variable, third_variable):\n",
    "        save_attr(self)\n",
    "\n",
    "t = Test(1,2,4)\n",
    "assert t.second_variable == 2"
   ]
  },
  {
   "cell_type": "markdown",
   "metadata": {},
   "source": [
    "The point in this case is fasatcore can give you lots of cool ideas on how to extend python to get rid of anything that annoys you.  And inspecting the source code is also very helpful - but that was not required in this case. "
   ]
  },
  {
   "cell_type": "markdown",
   "metadata": {},
   "source": [
    "## Avoiding subclassing boilerplate\n",
    "\n",
    "One thing I hate about python is the `__super__().__init__()` boilerplate associated with subclassing.  For example:"
   ]
  },
  {
   "cell_type": "code",
   "execution_count": 10,
   "metadata": {},
   "outputs": [],
   "source": [
    "from torch import nn\n",
    "class ParentClass:\n",
    "    def __init__(self): self.some_attr = 'hello'\n",
    "        \n",
    "class ChildClass(ParentClass):\n",
    "    def __init__(self):\n",
    "        super().__init__()\n",
    "\n",
    "cc = ChildClass()\n",
    "assert cc.some_attr == 'hello' # only accessible b/c you used super"
   ]
  },
  {
   "cell_type": "markdown",
   "metadata": {},
   "source": [
    "We can avoid this boilerplate by using the metaclass [`PrePostInitMeta`](https://fastcore.fast.ai/foundation.html#PrePostInitMeta).  We define a new class called `NewParent` that is a wrapper around the `ParentClass`:"
   ]
  },
  {
   "cell_type": "code",
   "execution_count": 11,
   "metadata": {},
   "outputs": [],
   "source": [
    "class NewParent(ParentClass, metaclass=PrePostInitMeta):\n",
    "    def __pre_init__(self, *args, **kwargs): super().__init__()\n",
    "\n",
    "class ChildClass(NewParent):\n",
    "    def __init__(self):pass\n",
    "    \n",
    "sc = ChildClass()\n",
    "assert sc.some_attr == 'hello' "
   ]
  },
  {
   "cell_type": "markdown",
   "metadata": {},
   "source": [
    "Learn more about how this works by [reading the docs](https://fastcore.fast.ai/foundation.html#PrePostInitMeta)."
   ]
  },
  {
   "cell_type": "markdown",
   "metadata": {},
   "source": [
    "## Type Dispatch\n",
    "\n",
    "Type dispatch, or [Multiple dispatch](https://en.wikipedia.org/wiki/Multiple_dispatch#Julia), allows you to change the way a function behaves based upon the input types it recevies.  This is a prominent feature in some  programming languages like Julia.  For example, this is a [conceptual example](https://en.wikipedia.org/wiki/Multiple_dispatch#Julia) of how multiple dispatch works in Julia, returning different values depending on the input types of x and y:\n",
    "\n",
    "```julia\n",
    "collide_with(x::Asteroid, y::Asteroid) = ... \n",
    "# deal with asteroid hitting asteroid\n",
    "\n",
    "collide_with(x::Asteroid, y::Spaceship) = ... \n",
    "# deal with asteroid hitting spaceship\n",
    "\n",
    "collide_with(x::Spaceship, y::Asteroid) = ... \n",
    "# deal with spaceship hitting asteroid\n",
    "\n",
    "collide_with(x::Spaceship, y::Spaceship) = ... \n",
    "# deal with spaceship hitting spaceship\n",
    "```\n",
    "\n",
    "Type dispatch can be especially useful in data science, where you might allow different input types (i.e. numpy arrays and pandas dataframes) to function that processes data. Type dispatch allows you to have a common API for functions that do similar tasks.\n",
    "\n",
    "Unfortunately, Python does not support this out-of-the box.  Fortunately, there is the [`@typedispatch`](https://fastcore.fast.ai/dispatch.html#typedispatch-Decorator) decorator to the rescue.  This decorator relies upon type hints in order to route inputs the correct version of the function:"
   ]
  },
  {
   "cell_type": "code",
   "execution_count": 12,
   "metadata": {},
   "outputs": [],
   "source": [
    "@typedispatch\n",
    "def f(x:str, y:str): return f'{x}{y}'\n",
    "\n",
    "@typedispatch\n",
    "def f(x:np.ndarray): return x.sum()\n",
    "\n",
    "@typedispatch\n",
    "def f(x:int, y:int): return x+y"
   ]
  },
  {
   "cell_type": "markdown",
   "metadata": {},
   "source": [
    "Below is a demonstration of type dispatch at work for the function `f`:"
   ]
  },
  {
   "cell_type": "code",
   "execution_count": 13,
   "metadata": {},
   "outputs": [
    {
     "data": {
      "text/plain": [
       "'Hello World!'"
      ]
     },
     "execution_count": 13,
     "metadata": {},
     "output_type": "execute_result"
    }
   ],
   "source": [
    "f('Hello ', 'World!')"
   ]
  },
  {
   "cell_type": "code",
   "execution_count": 14,
   "metadata": {},
   "outputs": [
    {
     "data": {
      "text/plain": [
       "5"
      ]
     },
     "execution_count": 14,
     "metadata": {},
     "output_type": "execute_result"
    }
   ],
   "source": [
    "f(2,3)"
   ]
  },
  {
   "cell_type": "code",
   "execution_count": 15,
   "metadata": {},
   "outputs": [
    {
     "data": {
      "text/plain": [
       "20"
      ]
     },
     "execution_count": 15,
     "metadata": {},
     "output_type": "execute_result"
    }
   ],
   "source": [
    "f(np.array([5,5,5,5]))"
   ]
  },
  {
   "cell_type": "markdown",
   "metadata": {},
   "source": [
    "There are important limitations of this feature, as well as other important ways of using this functionality tha [you can read about here](https://fastcore.fast.ai/dispatch.html). In the process of learning about typed dispatch, I also found a python library called [multipledispatch](https://github.com/mrocklin/multipledispatch) made my [Mathhew Rocklin](https://github.com/mrocklin) (the creator of Dask). \n",
    "\n",
    "After using this feature, I am now motivated to learn languages like Julia to discover what other paradigms I might be missing."
   ]
  },
  {
   "cell_type": "markdown",
   "metadata": {},
   "source": [
    "## An improvement upon functools.partial: partialler\n",
    "\n",
    "`functools.partial` is a great utlity that creates functions from other functions that lets you set default values. Lets take this function for example that filters a list to only contain values >= `val`:"
   ]
  },
  {
   "cell_type": "code",
   "execution_count": 16,
   "metadata": {},
   "outputs": [
    {
     "data": {
      "text/plain": [
       "[3, 4, 5, 6]"
      ]
     },
     "execution_count": 16,
     "metadata": {},
     "output_type": "execute_result"
    }
   ],
   "source": [
    "test_input = [1,2,3,4,5,6]\n",
    "def f(arr, val): \n",
    "    \"Filter a list to remove any values that are less than val.\"\n",
    "    return [x for x in arr if x >= val]\n",
    "\n",
    "f(test_input, 3)"
   ]
  },
  {
   "cell_type": "markdown",
   "metadata": {},
   "source": [
    "You can create a new function out of this function using `partial` that sets the default value to 5:"
   ]
  },
  {
   "cell_type": "code",
   "execution_count": 17,
   "metadata": {},
   "outputs": [
    {
     "data": {
      "text/plain": [
       "[5, 6]"
      ]
     },
     "execution_count": 17,
     "metadata": {},
     "output_type": "execute_result"
    }
   ],
   "source": [
    "filter5 = partial(f, val=5)\n",
    "filter5(test_input)"
   ]
  },
  {
   "cell_type": "markdown",
   "metadata": {},
   "source": [
    "One problem with `partial` is that it removes the original docstring and replaces it with a generic docstring:"
   ]
  },
  {
   "cell_type": "code",
   "execution_count": 18,
   "metadata": {},
   "outputs": [
    {
     "data": {
      "text/plain": [
       "('partial(func, *args, **keywords) - new function with partial application\\n    of the given arguments and keywords.\\n',\n",
       " <Signature (arr, *, val=5)>)"
      ]
     },
     "execution_count": 18,
     "metadata": {},
     "output_type": "execute_result"
    }
   ],
   "source": [
    "filter5.__doc__, inspect.signature(filter5)"
   ]
  },
  {
   "cell_type": "markdown",
   "metadata": {},
   "source": [
    "`fastcore.partialler` fixes this, and makes sure the docstring is retained such that the new api is transparent:"
   ]
  },
  {
   "cell_type": "code",
   "execution_count": 19,
   "metadata": {},
   "outputs": [
    {
     "data": {
      "text/plain": [
       "('Filter a list to remove any values that are less than val.',\n",
       " <Signature (arr, *, val=5)>)"
      ]
     },
     "execution_count": 19,
     "metadata": {},
     "output_type": "execute_result"
    }
   ],
   "source": [
    "filter5 = partialler(f, val=5)\n",
    "filter5.__doc__, inspect.signature(filter5)"
   ]
  },
  {
   "cell_type": "markdown",
   "metadata": {},
   "source": [
    "## Composition of functions\n",
    "\n",
    "A technique that is pervasive in functional programming languages is function composition, whereby you chain a bunch of functions together to achieve some kind of result.  This is especially useful when applying various data transformations.  Consider a toy example where I have three functions:  (1) Removes elements of a list less than 5 (from the prior section) (2) adds 2 to each number (3) sums all the numbers:"
   ]
  },
  {
   "cell_type": "code",
   "execution_count": 20,
   "metadata": {},
   "outputs": [
    {
     "data": {
      "text/plain": [
       "15"
      ]
     },
     "execution_count": 20,
     "metadata": {},
     "output_type": "execute_result"
    }
   ],
   "source": [
    "def add(arr, val): return [x + val for x in arr]\n",
    "def arrsum(arr): return sum(arr)\n",
    "\n",
    "# See the previous section on partialler\n",
    "add2 = partialler(add, val=2)\n",
    "\n",
    "transform = compose(filter5, add2, arrsum)\n",
    "transform([1,2,3,4,5,6])"
   ]
  },
  {
   "cell_type": "markdown",
   "metadata": {},
   "source": [
    "But why is this useful?  You might me thinking, I can accomplish the same thing with:\n",
    "\n",
    "```py\n",
    "arrsum(add2(filter5([1,2,3,4,5,6])))\n",
    "```\n",
    "You are not wrong!  However, composition gives you a convenient interface incase you want to do something like the following:"
   ]
  },
  {
   "cell_type": "code",
   "execution_count": 21,
   "metadata": {},
   "outputs": [
    {
     "data": {
      "text/plain": [
       "[7.5, 7.5]"
      ]
     },
     "execution_count": 21,
     "metadata": {},
     "output_type": "execute_result"
    }
   ],
   "source": [
    "def fit(x, transforms:list):\n",
    "    \"fit a model after performing transformations\"\n",
    "    x = compose(*transforms)(x)\n",
    "    y = [np.mean(x)] * len(x) # its a dumb model.  Don't judge me\n",
    "    return y\n",
    "    \n",
    "fit(x=[1,2,3,4,5,6], transforms=[filter5, add2]) # filters out elements < 5, adds 2, then predicts the mean"
   ]
  },
  {
   "cell_type": "markdown",
   "metadata": {},
   "source": [
    "For more information about `compose`, read [the docs](https://fastcore.fast.ai/utils.html#compose)"
   ]
  },
  {
   "cell_type": "markdown",
   "metadata": {},
   "source": [
    "## A more useful <code>__repr__</code>\n",
    "\n",
    "In python, `__repr__` helps you get information about an object for logging and debugging.  Below is what you get by default when you define a new class:  _Note: we are using `store_attr`, which was discussed earlier to simplify our `__init__`__."
   ]
  },
  {
   "cell_type": "code",
   "execution_count": 22,
   "metadata": {},
   "outputs": [
    {
     "data": {
      "text/plain": [
       "<__main__.Test at 0x7ff44da0d4f0>"
      ]
     },
     "execution_count": 22,
     "metadata": {},
     "output_type": "execute_result"
    }
   ],
   "source": [
    "class Test:\n",
    "    store_attrs='a,b,c'\n",
    "    def __init__(self, a, b=2, c=3): store_attr(self) # `store_attr` will use class attribute store_attrs if passed no arguments.\n",
    "    \n",
    "Test(1)"
   ]
  },
  {
   "cell_type": "markdown",
   "metadata": {},
   "source": [
    "We can use `basic_repr` to quickly give us a more sensible default:"
   ]
  },
  {
   "cell_type": "code",
   "execution_count": 23,
   "metadata": {},
   "outputs": [
    {
     "data": {
      "text/plain": [
       "Test(a=2, b=2, c=3)"
      ]
     },
     "execution_count": 23,
     "metadata": {},
     "output_type": "execute_result"
    }
   ],
   "source": [
    "class Test:\n",
    "    store_attrs='a,b,c'\n",
    "    def __init__(self, a, b=2, c=3): store_attr(self) \n",
    "    __repr__ = basic_repr('a,b,c')\n",
    "    \n",
    "Test(2)"
   ]
  },
  {
   "cell_type": "markdown",
   "metadata": {},
   "source": [
    "For information, read [the docs](https://fastcore.fast.ai/utils.html#basic_repr)."
   ]
  },
  {
   "cell_type": "markdown",
   "metadata": {},
   "source": [
    "## Monkey Patching With A Decorator\n",
    "\n",
    "It can be convenient to [monkey patch](https://www.geeksforgeeks.org/monkey-patching-in-python-dynamic-behavior/) with a decorator, which is especially helpful when you want to patch an external libraary you are importing.  We can use the decorator `@patch` from `fastcore.foundation` along with type hints like so:"
   ]
  },
  {
   "cell_type": "code",
   "execution_count": 24,
   "metadata": {},
   "outputs": [],
   "source": [
    "class MyClass(int): pass  \n",
    "\n",
    "@patch\n",
    "def func(self:MyClass, a): return self+a\n",
    "\n",
    "mc = MyClass(3)"
   ]
  },
  {
   "cell_type": "markdown",
   "metadata": {},
   "source": [
    "Now, `MyClass` has an additional method named `func`:"
   ]
  },
  {
   "cell_type": "code",
   "execution_count": 25,
   "metadata": {},
   "outputs": [
    {
     "data": {
      "text/plain": [
       "13"
      ]
     },
     "execution_count": 25,
     "metadata": {},
     "output_type": "execute_result"
    }
   ],
   "source": [
    "mc.func(10)"
   ]
  },
  {
   "cell_type": "markdown",
   "metadata": {},
   "source": [
    "## A better pathlib.Path\n",
    "\n",
    "When you see [these extensions](https://fastcore.fast.ai/utils.html#Extensions-to-Pathlib.Path) to pathlib.path you won't ever use vanilla pathlib again! A number of additional methods have ben added to pathlib, such as:\n",
    "\n",
    "- `Path.readlines`: same as `with open('somefile', 'r') as f: f.readlines()`\n",
    "- `Path.read`: same as `with open('somefile', 'r') as f: f.read()`\n",
    "- `Path.save`: saves file as pickle\n",
    "- `Path.load`: loads pickle file\n",
    "- `Path.ls`: shows the contents of the path as a list. \n",
    "- etc.\n",
    "\n",
    "[Read more about this here](https://fastcore.fast.ai/utils.html#Extensions-to-Pathlib.Path).  Here is a demonstration of `ls`: "
   ]
  },
  {
   "cell_type": "code",
   "execution_count": 26,
   "metadata": {},
   "outputs": [
    {
     "data": {
      "text/plain": [
       "(#21) [Path('../_notebooks/gpt2_simple_mask.jpg'),Path('../_notebooks/bert_mac_small.jpg'),Path('../_notebooks/causal_with_prefix.jpg'),Path('../_notebooks/.DS_Store'),Path('../_notebooks/2020-03-07-How_to_Create_an_Automatic_Code_Comment_Generator_using_Deep_Learning.ipynb'),Path('../_notebooks/2020-09-01-fastcore.ipynb'),Path('../_notebooks/2020-03-07-Syntax-Highlighting.ipynb'),Path('../_notebooks/2020-03-06-bart.ipynb'),Path('../_notebooks/README.md'),Path('../_notebooks/2020-05-01-TrainDonkeyCar.ipynb')...]"
      ]
     },
     "execution_count": 26,
     "metadata": {},
     "output_type": "execute_result"
    }
   ],
   "source": [
    "from pathlib import Path\n",
    "p = Path('../_notebooks')\n",
    "p.ls() # you don't get this with vanilla Pathlib.Path!!"
   ]
  },
  {
   "cell_type": "markdown",
   "metadata": {},
   "source": [
    "Wait!  What's going on here?  We just imported `pathlib.Path` - why are we getting this new functionality?  Thats because we imported the `fastcore.foundation` module, which patches this module via the `@patch` decorator discussed earlier.  Just to drive the point home on why the `@patch` decorator is useful, I'll go ahead and add another method to `Path` right now:"
   ]
  },
  {
   "cell_type": "code",
   "execution_count": 27,
   "metadata": {},
   "outputs": [
    {
     "data": {
      "text/plain": [
       "'This is fun!'"
      ]
     },
     "execution_count": 27,
     "metadata": {},
     "output_type": "execute_result"
    }
   ],
   "source": [
    "@patch\n",
    "def fun(self:Path): return \"This is fun!\"\n",
    "\n",
    "p.fun()"
   ]
  },
  {
   "cell_type": "markdown",
   "metadata": {},
   "source": [
    "That is magical, right?  I know!  That's why I'm writing about it!"
   ]
  },
  {
   "cell_type": "markdown",
   "metadata": {},
   "source": [
    "## A Drop In Replacement For List\n",
    "\n",
    "You might be pretty happy with Python's `list`.  This is one of those situations that you don't know you needed a better list until someone showed one to you.  Enter `L`, a list like object with many extra goodies.  \n",
    "\n",
    "The best way I can describe `L` is to pretend that `list` and `numpy` had a pretty baby:"
   ]
  },
  {
   "cell_type": "markdown",
   "metadata": {},
   "source": [
    "define a list (checkout the nice `__repr__` that shows the length of the list!)"
   ]
  },
  {
   "cell_type": "code",
   "execution_count": 28,
   "metadata": {},
   "outputs": [
    {
     "data": {
      "text/plain": [
       "(#3) [1,2,3]"
      ]
     },
     "execution_count": 28,
     "metadata": {},
     "output_type": "execute_result"
    }
   ],
   "source": [
    "L(1,2,3)"
   ]
  },
  {
   "cell_type": "markdown",
   "metadata": {},
   "source": [
    "Shuffle a list:"
   ]
  },
  {
   "cell_type": "code",
   "execution_count": 29,
   "metadata": {},
   "outputs": [
    {
     "data": {
      "text/plain": [
       "(#20) [0,15,14,10,5,11,4,12,17,19...]"
      ]
     },
     "execution_count": 29,
     "metadata": {},
     "output_type": "execute_result"
    }
   ],
   "source": [
    "p = L.range(20).shuffle()\n",
    "p"
   ]
  },
  {
   "cell_type": "markdown",
   "metadata": {},
   "source": [
    "Index into a list:"
   ]
  },
  {
   "cell_type": "code",
   "execution_count": 30,
   "metadata": {},
   "outputs": [
    {
     "data": {
      "text/plain": [
       "(#3) [14,5,4]"
      ]
     },
     "execution_count": 30,
     "metadata": {},
     "output_type": "execute_result"
    }
   ],
   "source": [
    "p[2,4,6]"
   ]
  },
  {
   "cell_type": "markdown",
   "metadata": {},
   "source": [
    "Conduct element wise operations:"
   ]
  },
  {
   "cell_type": "code",
   "execution_count": 31,
   "metadata": {},
   "outputs": [
    {
     "data": {
      "text/plain": [
       "(#4) [1,2,3,4]"
      ]
     },
     "execution_count": 31,
     "metadata": {},
     "output_type": "execute_result"
    }
   ],
   "source": [
    "1 + L(2,3,4)"
   ]
  },
  {
   "cell_type": "markdown",
   "metadata": {},
   "source": [
    "Learn more about `L` in [the docs](https://fastcore.fast.ai/foundation.html#Class-L-Methods)"
   ]
  },
  {
   "cell_type": "markdown",
   "metadata": {},
   "source": [
    "## But Wait ... There's More!\n",
    "\n",
    "![](fastcore_imgs/bwtm.jpg)\n",
    "\n",
    "There are way too many things I would like to show you about fastcore, but there is no way they would reasonably fit into a blog post.  Here is a quick list of some of my favorite things:\n",
    "\n",
    "### Utilities\n",
    "\n",
    "[http://fastcore.fast.ai/utils.html](http://fastcore.fast.ai/utils.html)\n",
    "\n",
    "- `mk_class`: quickly add a bunch of attributes to a class\n",
    "- `wrap_class`: add new methods to an a class with a simple decorator\n",
    "- `groupby`: similar to scala groupby\n",
    "- `merge`: merge dicts\n",
    "- `fasttuple`: a tuple on steroids\n",
    "- `Infinite Lists`: useful for padding and testing\n",
    "- `chunked`: for batching and organizing stuff\n",
    "\n",
    "### Multiprocessing\n",
    "\n",
    "[http://fastcore.fast.ai/utils.html#Multiprocessing](http://fastcore.fast.ai/utils.html#Multiprocessing)\n",
    "\n",
    "Extends python's multiprocessing library.  Has features like:\n",
    "\n",
    "- progress bars\n",
    "- ability to pause to mitigate race conditions with external services\n",
    "- processing things in batches on each worker, ex: if you have a vectorized operation to perform in chunks\n",
    "\n",
    "### Functional Programming\n",
    "\n",
    "[http://fastcore.fast.ai/utils.html#Functions-on-Functions](http://fastcore.fast.ai/utils.html#Functions-on-Functions)\n",
    "\n",
    "This is a functional programming toolkit that is my favorite part of this library.  \n",
    "\n",
    "- `compose`:  functional programming - compose several functions\n",
    "- `maps`:  a map that also composes functions\n",
    "- `mapped`: A more robust `map` \n",
    "- `using_attr`:  change the way a function uses its inputs (see docs)\n",
    "- `Self`:  with an uppercase `S` - a better lambda\n",
    "\n",
    "### Transformations\n",
    "\n",
    "[https://fastcore.fast.ai/transform.html](https://fastcore.fast.ai/transform.html)\n",
    "\n",
    "A collection of utilities for creating data transformations and associated pipelines. These transformation utilities build upon many of the building blocks discussed in this blog post.\n",
    "\n",
    "\n",
    "### Further Reading\n",
    "\n",
    "**It should be noted that you should read the [main page of the docs](https://fastcore.fast.ai/) first, followed by the section on [tests](https://fastcore.fast.ai/) to fully understand the documentation.**\n",
    "\n",
    "- The [fastcore documentation site](https://fastcore.fast.ai/).\n",
    "- The [fastcore GitHub repo](https://github.com/fastai/fastcore).\n",
    "- Blog post on [delegation](https://www.fast.ai/2019/08/06/delegation/)."
   ]
  },
  {
   "cell_type": "markdown",
   "metadata": {},
   "source": [
    "## Shameless plug: fastpages\n",
    "\n",
    "This blog post was written entirely in a Jupyter Notebook, which GitHub automatically converts to a blog post!  Sound interesting?  [Checkout fastpages](https://github.com/fastai/fastpages)."
   ]
  }
 ],
 "metadata": {
  "kernelspec": {
   "display_name": "fastai",
   "language": "python",
   "name": "fastai"
  },
  "language_info": {
   "codemirror_mode": {
    "name": "ipython",
    "version": 3
   },
   "file_extension": ".py",
   "mimetype": "text/x-python",
   "name": "python",
   "nbconvert_exporter": "python",
   "pygments_lexer": "ipython3",
   "version": "3.8.3"
  }
 },
 "nbformat": 4,
 "nbformat_minor": 4
}
