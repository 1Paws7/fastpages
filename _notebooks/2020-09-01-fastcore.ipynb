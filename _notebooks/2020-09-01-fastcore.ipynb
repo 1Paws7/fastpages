{
 "cells": [
  {
   "cell_type": "markdown",
   "metadata": {},
   "source": [
    "# \"fastcore: An Underrated Python Library\"\n",
    "\n",
    "> A unique python library that extends the python programming language and provides utilities that enhance productivity.\n",
    "- author: \"<a href='https://twitter.com/HamelHusain'>Hamel Husain</a>, <a href='https://twitter.com/jeremyphoward'>Jeremy Howard</a>\"\n",
    "- toc: false\n",
    "- image: image/terminal.png\n",
    "- comments: true\n",
    "- categories: [fastcore, fastai]\n",
    "- permalink: /fastcore/\n",
    "- badges: true"
   ]
  },
  {
   "cell_type": "markdown",
   "metadata": {},
   "source": [
    "![screenshot with code](fastcore_imgs/terminal.jpg \"Credit: https://unsplash.com/photos/ieic5Tq8YMk\")\n",
    "\n",
    "## Background\n",
    "\n",
    "I recently embarked on a journey to sharpen my python skills:  I wanted to learn advanced patterns, idioms, and techniques.  I started with reading a bunch of books on Advanced Python, however, like anything else, the information didn’t seem to stick without having somewhere to apply it.  That’s when an opportunity to help document and write tests for the [python library fastcore](https://fastcore.fast.ai/) presented itself.  For the uninitiated, [fastcore](https://fastcore.fast.ai/) is a set of modules on top of which many [fast.ai](https://github.com/fastai) projects are built on.  I talk more about this experience towards the end of this article.  However, I want to first tell you a bit about the library!\n",
    "\n",
    "## Why fastcore is interesting\n",
    "\n",
    "1. **Get exposed to ideas from other languages without leaving python:**  I’ve always heard to become a better programmer, it is beneficial to learn other languages.  From a pragmatic point of view, I’ve found it difficult to learn other languages because I could never use them at work.   Fastcore extends python to include patterns found in languages as diverse as Julia, Ruby and Haskell.  Now that I understand these tools and have benifited from them, I am motivated to learn other languages.\n",
    "2. **You get a new set of pragmatic tools**: fastcore includes utilities that will allow you to write more concise expressive code, and perhaps solve new problems.\n",
    "3. **Learn more about the python programming language:**  Because fastcore extends the python programming language, many advanced concepts are exposed during the process.  For the motivated, this is a great way to see how many of the internals of python work.  \n",
    "\n",
    "\n",
    "In this blog post, I’m going to focus primarily on showing some highlights of my favorite tools as it relates to #2.  My goal is to pique your interest in this library, and hopefully motivate you to check out the documentation after you are done to learn more!\n",
    "\n",
    "## A whirlwind tour through fastcore\n",
    "\n",
    "Here are some things you can do with fastcore that immediately caught my attention."
   ]
  },
  {
   "cell_type": "code",
   "execution_count": 1,
   "metadata": {},
   "outputs": [],
   "source": [
    "#hide\n",
    "from fastcore.foundation import *\n",
    "from fastcore.utils import *\n",
    "from functools import partial\n",
    "import numpy as np\n",
    "import inspect\n",
    "from pdb import set_trace"
   ]
  },
  {
   "cell_type": "markdown",
   "metadata": {},
   "source": [
    "### Making **kwargs transparent\n",
    "\n",
    "Whenever I see a function that has the argument <strong>**kwargs</strong>, I cringe a little.  This is because it means the api is obfuscated and I have to read the source code to figure out what valid parameters might be.  Consdier the below example:"
   ]
  },
  {
   "cell_type": "code",
   "execution_count": 2,
   "metadata": {},
   "outputs": [
    {
     "data": {
      "text/plain": [
       "<Signature (c, a, **kwargs)>"
      ]
     },
     "execution_count": 2,
     "metadata": {},
     "output_type": "execute_result"
    }
   ],
   "source": [
    "def baz(a, b=2, c =3): return a + b + c\n",
    "\n",
    "def foo(c, a, **kwargs):\n",
    "    return c + baz(a, **kwargs)\n",
    "\n",
    "inspect.signature(foo)"
   ]
  },
  {
   "cell_type": "markdown",
   "metadata": {},
   "source": [
    "Without reading the source code, it might be hard for me to know that `foo` also accepts additional parameters `b` and `c`.  We can fix this with [`delegates`](https://fastcore.fast.ai/foundation.html#delegates):"
   ]
  },
  {
   "cell_type": "code",
   "execution_count": 3,
   "metadata": {},
   "outputs": [
    {
     "data": {
      "text/plain": [
       "<Signature (c, a, b=2)>"
      ]
     },
     "execution_count": 3,
     "metadata": {},
     "output_type": "execute_result"
    }
   ],
   "source": [
    "def baz(a, b=2, c =3): return a + b + c\n",
    "\n",
    "@delegates(baz) # this decorator will pass down keyword arguments from baz\n",
    "def foo(c, a, **kwargs):\n",
    "    return c + baz(a, **kwargs)\n",
    "\n",
    "inspect.signature(foo)"
   ]
  },
  {
   "cell_type": "markdown",
   "metadata": {},
   "source": [
    "You can customize the behavior of this decorator.  For example, you can have your cake and eat it too by passing down your arguments and also keeping `**kwargs`:"
   ]
  },
  {
   "cell_type": "code",
   "execution_count": 4,
   "metadata": {},
   "outputs": [
    {
     "data": {
      "text/plain": [
       "<Signature (c, a, b=2, **kwargs)>"
      ]
     },
     "execution_count": 4,
     "metadata": {},
     "output_type": "execute_result"
    }
   ],
   "source": [
    "@delegates(baz, keep=True)\n",
    "def foo(c, a, **kwargs):\n",
    "    return c + baz(a, **kwargs)\n",
    "\n",
    "inspect.signature(foo)"
   ]
  },
  {
   "cell_type": "markdown",
   "metadata": {},
   "source": [
    "You can also exclude arguments.  For example, we exclude argument `d` from delegation:"
   ]
  },
  {
   "cell_type": "code",
   "execution_count": 5,
   "metadata": {},
   "outputs": [
    {
     "data": {
      "text/plain": [
       "<Signature (a, b=1, c=2)>"
      ]
     },
     "execution_count": 5,
     "metadata": {},
     "output_type": "execute_result"
    }
   ],
   "source": [
    "def basefoo(c=2, d=3): \n",
    "    pass\n",
    "\n",
    "@delegates(basefoo, but= ['d']) # exclude `d`\n",
    "def foo(a, b=1, **kwargs):\n",
    "    pass\n",
    "\n",
    "inspect.signature(foo)"
   ]
  },
  {
   "cell_type": "markdown",
   "metadata": {},
   "source": [
    "You can also delegate between classes:"
   ]
  },
  {
   "cell_type": "code",
   "execution_count": 6,
   "metadata": {},
   "outputs": [
    {
     "data": {
      "text/plain": [
       "<Signature (a, b=1, c=2)>"
      ]
     },
     "execution_count": 6,
     "metadata": {},
     "output_type": "execute_result"
    }
   ],
   "source": [
    "class BaseFoo:\n",
    "    def __init__(self, e, c=2): pass\n",
    "\n",
    "@delegates()# since no argument was passsed here we delegate to the superclass\n",
    "class Foo(BaseFoo):\n",
    "    def __init__(self, a, b=1, **kwargs): super().__init__(**kwargs)\n",
    "        \n",
    "inspect.signature(Foo)"
   ]
  },
  {
   "cell_type": "markdown",
   "metadata": {},
   "source": [
    "For more information, read the [docs on delegates](https://fastcore.fast.ai/foundation.html#delegates)"
   ]
  },
  {
   "cell_type": "markdown",
   "metadata": {},
   "source": [
    "### Avoid boilerplate when setting instance attributes\n",
    "\n",
    "One thing I have always wondered if it was possible to avoid is the lengthy biolerplate involved with setting attributes in `__init__`, that often involves repeating many variable (which is error prone):"
   ]
  },
  {
   "cell_type": "code",
   "execution_count": 7,
   "metadata": {},
   "outputs": [],
   "source": [
    "class Test:\n",
    "    def __init__(self, first_variable, second_variable, third_variable):\n",
    "        self.first_variable = first_variable\n",
    "        self.second_variable = second_variable\n",
    "        self.third_variable = third_variable"
   ]
  },
  {
   "cell_type": "markdown",
   "metadata": {},
   "source": [
    "Ouch! That was painful.  Look at all the repeated variable names.  Do I really have to repeat myself like this when defining a class?  Not Anymore!  Checkout out [`fastcore.utils.store_attr`](https://fastcore.fast.ai/utils.html#store_attr):"
   ]
  },
  {
   "cell_type": "code",
   "execution_count": 8,
   "metadata": {},
   "outputs": [],
   "source": [
    "class Test:\n",
    "    def __init__(self, first_variable, second_variable, third_variable):\n",
    "        store_attr(self, 'first_variable, second_variable, third_variable')\n",
    "        \n",
    "t = Test(5,4,3)\n",
    "assert t.second_variable == 4"
   ]
  },
  {
   "cell_type": "markdown",
   "metadata": {},
   "source": [
    "That's much better.  However, if I'm pretty lazy.  I can extend this a bit more if really don't want to repeat myself, using this [wisdom I found on stack overflow](https://stackoverflow.com/questions/582056/getting-list-of-parameter-names-inside-python-function):"
   ]
  },
  {
   "cell_type": "code",
   "execution_count": 21,
   "metadata": {},
   "outputs": [],
   "source": [
    "def save_attr(self):\n",
    "    \"lazier version of store_attr\"\n",
    "    store_attr(self, ','.join(self.__init__.__code__.co_varnames[1:]))\n",
    "\n",
    "class Test:\n",
    "    def __init__(self, first_variable, second_variable, third_variable):\n",
    "        save_attr(self)\n",
    "\n",
    "t = Test(1,2,4)\n",
    "assert t.second_variable == 2"
   ]
  },
  {
   "cell_type": "markdown",
   "metadata": {},
   "source": [
    "The point in this case is fasatcore can give you lots of cool ideas on how to extend python to get rid of anything that annoys you.  And inspecting the source code is also very helpful - but that was not required in this case. "
   ]
  },
  {
   "cell_type": "markdown",
   "metadata": {},
   "source": [
    "### Avoiding subclassing boilerplate\n",
    "\n",
    "One thing I hate about python is the `__super__().__init__()` boilerplate associated with subclassing.  For example:"
   ]
  },
  {
   "cell_type": "code",
   "execution_count": 10,
   "metadata": {},
   "outputs": [],
   "source": [
    "from torch import nn\n",
    "class ParentClass:\n",
    "    def __init__(self): self.some_attr = 'hello'\n",
    "        \n",
    "class ChildClass(ParentClass):\n",
    "    def __init__(self):\n",
    "        super().__init__()\n",
    "\n",
    "cc = ChildClass()\n",
    "assert cc.some_attr == 'hello' # only accessible b/c you used super"
   ]
  },
  {
   "cell_type": "markdown",
   "metadata": {},
   "source": [
    "We can avoid this boilerplate by using the metaclass [`PrePostInitMeta`](https://fastcore.fast.ai/foundation.html#PrePostInitMeta).  We define a new class called `NewParent` that is a wrapper around the `ParentClass`:"
   ]
  },
  {
   "cell_type": "code",
   "execution_count": 11,
   "metadata": {},
   "outputs": [],
   "source": [
    "class NewParent(ParentClass, metaclass=PrePostInitMeta):\n",
    "    def __pre_init__(self, *args, **kwargs): super().__init__()\n",
    "\n",
    "class ChildClass(NewParent):\n",
    "    def __init__(self):pass\n",
    "    \n",
    "sc = ChildClass()\n",
    "assert sc.some_attr == 'hello' "
   ]
  },
  {
   "cell_type": "markdown",
   "metadata": {},
   "source": [
    "Learn more about how this works by [reading the docs](https://fastcore.fast.ai/foundation.html#PrePostInitMeta)."
   ]
  },
  {
   "cell_type": "markdown",
   "metadata": {},
   "source": [
    "### Type Dispatch\n",
    "\n",
    "Type dispatch, or [Multiple dispatch](), allows you to change the way a function behaves based upon the input types it recevies.  This is a prominent feature in some  programming languages like Julia.  For example, this is a conceptual example of how multiple dispatch works in Julia, returning different values depending on the input types of x and y: \n",
    "\n",
    "```julia\n",
    "collide_with(x::Asteroid, y::Asteroid) = ...  \n",
    "# deal with asteroid hitting asteroid \n",
    "\n",
    "collide_with(x::Asteroid, y::Spaceship) = ...  \n",
    "# deal with asteroid hitting spaceship \n",
    "\n",
    "collide_with(x::Spaceship, y::Asteroid) = ...  \n",
    "# deal with spaceship hitting asteroid \n",
    "\n",
    "collide_with(x::Spaceship, y::Spaceship) = ...  \n",
    "# deal with spaceship hitting spaceship \n",
    "```\n",
    "\n",
    "Type dispatch can be especially useful in data science, where you might allow different input types (i.e. numpy arrays and pandas dataframes) to function that processes data. Type dispatch allows you to have a common API for functions that do similar tasks. \n",
    "\n",
    "Unfortunately, Python does not support this out-of-the box.  Fortunately, there is the [`@typedispatch`](https://fastcore.fast.ai/dispatch.html#typedispatch-Decorator) decorator to the rescue:"
   ]
  },
  {
   "cell_type": "markdown",
   "metadata": {},
   "source": [
    "### An improvement upon functools.partial: partialler\n",
    "\n",
    "`functools.partial` is a great utlity that creates functions from other functions that lets you set default values. Lets take this function for example that filters a list to only contain values >= `val`:"
   ]
  },
  {
   "cell_type": "code",
   "execution_count": 12,
   "metadata": {},
   "outputs": [
    {
     "data": {
      "text/plain": [
       "[3, 4, 5, 6]"
      ]
     },
     "execution_count": 12,
     "metadata": {},
     "output_type": "execute_result"
    }
   ],
   "source": [
    "test_input = [1,2,3,4,5,6]\n",
    "def f(arr, val): \n",
    "    \"Filter a list to remove any values that are less than val.\"\n",
    "    return [x for x in arr if x >= val]\n",
    "\n",
    "f(test_input, 3)"
   ]
  },
  {
   "cell_type": "markdown",
   "metadata": {},
   "source": [
    "You can create a new function out of this function using `partial` that sets the default value to 5:"
   ]
  },
  {
   "cell_type": "code",
   "execution_count": 13,
   "metadata": {},
   "outputs": [
    {
     "data": {
      "text/plain": [
       "[5, 6]"
      ]
     },
     "execution_count": 13,
     "metadata": {},
     "output_type": "execute_result"
    }
   ],
   "source": [
    "filter5 = partial(f, val=5)\n",
    "filter5(test_input)"
   ]
  },
  {
   "cell_type": "markdown",
   "metadata": {},
   "source": [
    "One problem with `partial` is that it removes the original docstring and replaces it with a generic docstring:"
   ]
  },
  {
   "cell_type": "code",
   "execution_count": 14,
   "metadata": {},
   "outputs": [
    {
     "data": {
      "text/plain": [
       "('partial(func, *args, **keywords) - new function with partial application\\n    of the given arguments and keywords.\\n',\n",
       " <Signature (arr, *, val=5)>)"
      ]
     },
     "execution_count": 14,
     "metadata": {},
     "output_type": "execute_result"
    }
   ],
   "source": [
    "filter5.__doc__, inspect.signature(filter5)"
   ]
  },
  {
   "cell_type": "markdown",
   "metadata": {},
   "source": [
    "`fastcore.partialler` fixes this, and makes sure the docstring is retained such that the new functions api is transparent to the end user:"
   ]
  },
  {
   "cell_type": "code",
   "execution_count": 15,
   "metadata": {},
   "outputs": [
    {
     "data": {
      "text/plain": [
       "('Filter a list to remove any values that are less than val.',\n",
       " <Signature (arr, *, val=5)>)"
      ]
     },
     "execution_count": 15,
     "metadata": {},
     "output_type": "execute_result"
    }
   ],
   "source": [
    "filter5 = partialler(f, val=5)\n",
    "filter5.__doc__, inspect.signature(filter5)"
   ]
  },
  {
   "cell_type": "markdown",
   "metadata": {},
   "source": [
    "### Composition of functions\n",
    "\n",
    "A technique that is pervasive in functional programming languages is function composition, whereby you chain a bunch of functions together to achieve some kind of result.  This is especially useful when applying various data transformations.  Consider a toy example where I have three functions:  (1) Removes elements of a list less than 5 (from the prior section) (2) adds 2 to each number (3) sums all the numbers:"
   ]
  },
  {
   "cell_type": "code",
   "execution_count": 16,
   "metadata": {},
   "outputs": [
    {
     "data": {
      "text/plain": [
       "15"
      ]
     },
     "execution_count": 16,
     "metadata": {},
     "output_type": "execute_result"
    }
   ],
   "source": [
    "def add(arr, val): return [x + val for x in arr]\n",
    "def arrsum(arr): return sum(arr)\n",
    "\n",
    "# See the previous section on partialler\n",
    "add2 = partialler(add, val=2)\n",
    "\n",
    "transform = compose(filter5, add2, arrsum)\n",
    "transform([1,2,3,4,5,6])"
   ]
  },
  {
   "cell_type": "markdown",
   "metadata": {},
   "source": [
    "But why is this useful?  You might me thinking, I can accomplish the same thing with:\n",
    "\n",
    "```py\n",
    "arrsum(add2(filter5([1,2,3,4,5,6])))\n",
    "```\n",
    "You are not wrong!  However, composition gives you a convenient interface incase you want to do something like the following:"
   ]
  },
  {
   "cell_type": "code",
   "execution_count": 17,
   "metadata": {},
   "outputs": [
    {
     "data": {
      "text/plain": [
       "[7.5, 7.5]"
      ]
     },
     "execution_count": 17,
     "metadata": {},
     "output_type": "execute_result"
    }
   ],
   "source": [
    "def fit(x, transforms:list):\n",
    "    \"fit a model after performing transformations\"\n",
    "    x = compose(*transforms)(x)\n",
    "    y = [np.mean(x)] * len(x) # its a dumb model.  Don't judge me\n",
    "    return y\n",
    "    \n",
    "fit(x=[1,2,3,4,5,6], transforms=[filter5, add2]) # filters out elements < 5, adds 2, then predicts the mean"
   ]
  },
  {
   "cell_type": "markdown",
   "metadata": {},
   "source": [
    "### A more useful <code>__repr__</code>\n",
    "\n",
    "In python, `__repr__` helps you get information about an object for logging and debugging.  Below is what you get by default when you define a new class:  _Note: we are using `store_attr`, which was discussed earlier to simplify our `__init__`__."
   ]
  },
  {
   "cell_type": "code",
   "execution_count": 29,
   "metadata": {},
   "outputs": [
    {
     "data": {
      "text/plain": [
       "<__main__.Test at 0x7f8cbf62b610>"
      ]
     },
     "execution_count": 29,
     "metadata": {},
     "output_type": "execute_result"
    }
   ],
   "source": [
    "class Test:\n",
    "    store_attrs='a,b,c'\n",
    "    def __init__(self, a, b=2, c=3): store_attr(self) # `store_attr` will use class attribute store_attrs if passed no arguments.\n",
    "    \n",
    "Test(1)"
   ]
  },
  {
   "cell_type": "markdown",
   "metadata": {},
   "source": [
    "We can use `basic_repr` to quickly give us a more sensible default:"
   ]
  },
  {
   "cell_type": "code",
   "execution_count": 28,
   "metadata": {},
   "outputs": [
    {
     "data": {
      "text/plain": [
       "Test(a=2, b=2, c=3)"
      ]
     },
     "execution_count": 28,
     "metadata": {},
     "output_type": "execute_result"
    }
   ],
   "source": [
    "class Test:\n",
    "    store_attrs='a,b,c'\n",
    "    def __init__(self, a, b=2, c=3): store_attr(self) \n",
    "    __repr__ = basic_repr('a,b,c')\n",
    "    \n",
    "Test(2)"
   ]
  },
  {
   "cell_type": "markdown",
   "metadata": {},
   "source": [
    "For information, read [the docs](https://fastcore.fast.ai/utils.html#basic_repr)."
   ]
  },
  {
   "cell_type": "markdown",
   "metadata": {},
   "source": [
    "### Parallel Processing In Python\n",
    "\n",
    "TODO parallel"
   ]
  },
  {
   "cell_type": "markdown",
   "metadata": {},
   "source": [
    "### A Better pathlib"
   ]
  },
  {
   "cell_type": "markdown",
   "metadata": {},
   "source": [
    "### A Drop In Replacement For List"
   ]
  },
  {
   "cell_type": "code",
   "execution_count": null,
   "metadata": {},
   "outputs": [],
   "source": []
  },
  {
   "cell_type": "markdown",
   "metadata": {},
   "source": [
    "## But Wait ... There's More!\n",
    "\n",
    "TODO"
   ]
  },
  {
   "cell_type": "markdown",
   "metadata": {},
   "source": [
    "## Further Reading\n",
    "\n",
    "- Blog post on [delegation](https://www.fast.ai/2019/08/06/delegation/)\n",
    "- Peer reviewed paper on fastai lib"
   ]
  },
  {
   "cell_type": "markdown",
   "metadata": {},
   "source": [
    "## Aside: Thoughts about contributing to open source\n",
    "\n",
    "![Screenshot of GitHub](fastcore_imgs/github.jpg \"Credit: https://unsplash.com/photos/4J2OD3njVgI\")\n",
    "\n",
    "I spent about a month contributing to fastai, which mainly involved writing documentation for fastcore, but also setting up CI and performing DevOps tasks like creating Docker containers.   I was asked to share some thoughts on my experiences, which I share below.\n",
    "\n",
    "Contributing to an open-source is a great way to sharpen your programming skills.  If your contributions are well received by maintainers, it can also become a great mentorship opportunity.  However, many people struggle with how to contribute to open-source projects. One mistake that people often make is they jump in and try to add new features (that they perhaps need) to a project.  Nadia Eghbal, the author of the recent book [Working in Public: The Making and Maintenance of Open Source Software](https://www.amazon.com/Working-Public-Making-Maintenance-Software/dp/0578675862)\n",
    "conducted an in-depth survey of open source.  One of her observations that is relevant:\n",
    "\n",
    "> The distribution --where one or few developers do most of the work followed by a long tail of casual contributors and many more passive users -- is now the norm, not the exception, in open source… One study found that in more than 85% of open source projects, less than 5% of the developers were responsible or over 95% of the code and social interactions.  \n",
    "\n",
    "Given this context, it is reasonable for maintainers to view many contributions, especially those that add new features as more surface area that they alone, must maintain. No matter how well-intentioned you might be, maintainers  expect that you will not stick around after your contribution is made, unless proven otherwhise.  Therefore, I am a big believer that in order to add new functionality, you must first “make room” for it by reducing the existing maintenance burden on that project. How can you reduce the maintenance burden on a project?  Here are some ways I find found to be very effective:"
   ]
  },
  {
   "cell_type": "markdown",
   "metadata": {},
   "source": [
    "- Write tests.\n",
    "\n",
    "- Write documentation.\n",
    "\n",
    "- Help automate tasks such as CI workflows if they do not exist. \n",
    "\n",
    "- Fix Bugs, but write tests and docs while doing so."
   ]
  },
  {
   "cell_type": "markdown",
   "metadata": {},
   "source": [
    "The above tasks tend to reduce the maintenance burden on projects, even after you leave.  An extremely high-value activity is writing tests and documentation as they force you to internalize how a piece of software works so that you may explain it to users.  Most importantly, these tasks can help you read software with an intention and deeply learn idioms, patterns, and tools that you can take elsewhere.  Finally, being a beginner can give you an advantage in writing clearer documentation that makes less assumptions about the knowledge of the reader.\n",
    "\n",
    "\n",
    "## Shameless plug: fastpages\n",
    "\n",
    "This blog post was written entirely in a Jupyter Notebook, which I just committed to GitHub and it automatically got converted to a blog post!  Sound interesting?  [Checkout fastpages](https://github.com/fastai/fastpages)."
   ]
  },
  {
   "cell_type": "code",
   "execution_count": null,
   "metadata": {},
   "outputs": [],
   "source": []
  },
  {
   "cell_type": "code",
   "execution_count": null,
   "metadata": {},
   "outputs": [],
   "source": []
  }
 ],
 "metadata": {
  "kernelspec": {
   "display_name": "fastai",
   "language": "python",
   "name": "fastai"
  },
  "language_info": {
   "codemirror_mode": {
    "name": "ipython",
    "version": 3
   },
   "file_extension": ".py",
   "mimetype": "text/x-python",
   "name": "python",
   "nbconvert_exporter": "python",
   "pygments_lexer": "ipython3",
   "version": "3.8.3"
  }
 },
 "nbformat": 4,
 "nbformat_minor": 4
}
